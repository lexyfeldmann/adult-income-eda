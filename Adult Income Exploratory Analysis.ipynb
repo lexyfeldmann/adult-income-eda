{
 "cells": [
  {
   "cell_type": "markdown",
   "id": "29422b14",
   "metadata": {},
   "source": [
    "## Lexy Feldmann<br>Adult Income EDA"
   ]
  },
  {
   "cell_type": "markdown",
   "id": "5d781c79",
   "metadata": {},
   "source": [
    "#### 1. Load the necessary libraries"
   ]
  },
  {
   "cell_type": "code",
   "execution_count": 1,
   "id": "e2170836",
   "metadata": {},
   "outputs": [],
   "source": [
    "# Import the necessary libraries\n",
    "import pandas as pd\n",
    "import matplotlib.pyplot as plt\n",
    "import numpy as np"
   ]
  },
  {
   "cell_type": "markdown",
   "id": "3e0b0d27",
   "metadata": {},
   "source": [
    "#### 2. Read the adult income dataset from the following URL: https://packt.live/2N9lRUU"
   ]
  },
  {
   "cell_type": "code",
   "execution_count": 2,
   "id": "44477f61",
   "metadata": {},
   "outputs": [],
   "source": [
    "# Read in the dataset\n",
    "income_data = pd.read_csv(\"https://raw.githubusercontent.com/PacktWorkshops/The-Data-Wrangling-Workshop/master/Chapter04/datasets/adult_income_data.csv\")"
   ]
  },
  {
   "cell_type": "markdown",
   "id": "d3a1564b",
   "metadata": {},
   "source": [
    "#### 3. Create a script that will read a text file line by line."
   ]
  },
  {
   "cell_type": "code",
   "execution_count": 5,
   "id": "e8d82db6",
   "metadata": {},
   "outputs": [
    {
     "data": {
      "text/plain": [
       "['age',\n",
       " 'workclass',\n",
       " 'fnlwgt',\n",
       " 'education',\n",
       " 'education-num',\n",
       " 'marital-status',\n",
       " 'occupation',\n",
       " 'relationship',\n",
       " 'sex',\n",
       " 'capital-gain',\n",
       " 'capital-loss',\n",
       " 'hours-per-week',\n",
       " 'native-country']"
      ]
     },
     "execution_count": 5,
     "metadata": {},
     "output_type": "execute_result"
    }
   ],
   "source": [
    "# Create the list variable that will store the column names\n",
    "column_names = []\n",
    "\n",
    "# Open the local text file from URL\n",
    "import requests\n",
    "\n",
    "# Read the text file content from URL\n",
    "url = \"https://raw.githubusercontent.com/lexyfeldmann/adult-income-eda/refs/heads/main/adult_income_names.txt\"\n",
    "response = requests.get(url)\n",
    "lines = response.text.splitlines()\n",
    "\n",
    "# Loop through each line in the file content\n",
    "for line in lines:\n",
    "    # Split the line at the ':' and grab the first part (column name)\n",
    "    first_part = line.split(\":\")[0].strip()\n",
    "    \n",
    "    # Add to the list if it's not empty\n",
    "    if first_part != '':\n",
    "        column_names.append(first_part)\n",
    "\n",
    "# View the column names list\n",
    "column_names\n"
   ]
  },
  {
   "cell_type": "markdown",
   "id": "b9436508",
   "metadata": {},
   "source": [
    "#### 4. Add a name of Income for the response variable to the dataset."
   ]
  },
  {
   "cell_type": "code",
   "execution_count": 6,
   "id": "28a5ffc4",
   "metadata": {},
   "outputs": [],
   "source": [
    "# Add the column name Income to the column names list\n",
    "column_names.append('Income')"
   ]
  },
  {
   "cell_type": "code",
   "execution_count": 7,
   "id": "4e2af3df",
   "metadata": {},
   "outputs": [
    {
     "data": {
      "text/html": [
       "<div>\n",
       "<style scoped>\n",
       "    .dataframe tbody tr th:only-of-type {\n",
       "        vertical-align: middle;\n",
       "    }\n",
       "\n",
       "    .dataframe tbody tr th {\n",
       "        vertical-align: top;\n",
       "    }\n",
       "\n",
       "    .dataframe thead th {\n",
       "        text-align: right;\n",
       "    }\n",
       "</style>\n",
       "<table border=\"1\" class=\"dataframe\">\n",
       "  <thead>\n",
       "    <tr style=\"text-align: right;\">\n",
       "      <th></th>\n",
       "      <th>age</th>\n",
       "      <th>workclass</th>\n",
       "      <th>fnlwgt</th>\n",
       "      <th>education</th>\n",
       "      <th>education-num</th>\n",
       "      <th>marital-status</th>\n",
       "      <th>occupation</th>\n",
       "      <th>relationship</th>\n",
       "      <th>sex</th>\n",
       "      <th>capital-gain</th>\n",
       "      <th>capital-loss</th>\n",
       "      <th>hours-per-week</th>\n",
       "      <th>native-country</th>\n",
       "      <th>Income</th>\n",
       "    </tr>\n",
       "  </thead>\n",
       "  <tbody>\n",
       "    <tr>\n",
       "      <th>0</th>\n",
       "      <td>39</td>\n",
       "      <td>State-gov</td>\n",
       "      <td>77516</td>\n",
       "      <td>Bachelors</td>\n",
       "      <td>13</td>\n",
       "      <td>Never-married</td>\n",
       "      <td>Adm-clerical</td>\n",
       "      <td>Not-in-family</td>\n",
       "      <td>Male</td>\n",
       "      <td>2174</td>\n",
       "      <td>0</td>\n",
       "      <td>40</td>\n",
       "      <td>United-States</td>\n",
       "      <td>&lt;=50K</td>\n",
       "    </tr>\n",
       "    <tr>\n",
       "      <th>1</th>\n",
       "      <td>50</td>\n",
       "      <td>Self-emp-not-inc</td>\n",
       "      <td>83311</td>\n",
       "      <td>Bachelors</td>\n",
       "      <td>13</td>\n",
       "      <td>Married-civ-spouse</td>\n",
       "      <td>Exec-managerial</td>\n",
       "      <td>Husband</td>\n",
       "      <td>Male</td>\n",
       "      <td>0</td>\n",
       "      <td>0</td>\n",
       "      <td>13</td>\n",
       "      <td>United-States</td>\n",
       "      <td>&lt;=50K</td>\n",
       "    </tr>\n",
       "    <tr>\n",
       "      <th>2</th>\n",
       "      <td>38</td>\n",
       "      <td>Private</td>\n",
       "      <td>215646</td>\n",
       "      <td>HS-grad</td>\n",
       "      <td>9</td>\n",
       "      <td>Divorced</td>\n",
       "      <td>Handlers-cleaners</td>\n",
       "      <td>Not-in-family</td>\n",
       "      <td>Male</td>\n",
       "      <td>0</td>\n",
       "      <td>0</td>\n",
       "      <td>40</td>\n",
       "      <td>United-States</td>\n",
       "      <td>&lt;=50K</td>\n",
       "    </tr>\n",
       "    <tr>\n",
       "      <th>3</th>\n",
       "      <td>53</td>\n",
       "      <td>Private</td>\n",
       "      <td>234721</td>\n",
       "      <td>11th</td>\n",
       "      <td>7</td>\n",
       "      <td>Married-civ-spouse</td>\n",
       "      <td>Handlers-cleaners</td>\n",
       "      <td>Husband</td>\n",
       "      <td>Male</td>\n",
       "      <td>0</td>\n",
       "      <td>0</td>\n",
       "      <td>40</td>\n",
       "      <td>United-States</td>\n",
       "      <td>&lt;=50K</td>\n",
       "    </tr>\n",
       "    <tr>\n",
       "      <th>4</th>\n",
       "      <td>28</td>\n",
       "      <td>Private</td>\n",
       "      <td>338409</td>\n",
       "      <td>Bachelors</td>\n",
       "      <td>13</td>\n",
       "      <td>Married-civ-spouse</td>\n",
       "      <td>Prof-specialty</td>\n",
       "      <td>Wife</td>\n",
       "      <td>Female</td>\n",
       "      <td>0</td>\n",
       "      <td>0</td>\n",
       "      <td>40</td>\n",
       "      <td>Cuba</td>\n",
       "      <td>&lt;=50K</td>\n",
       "    </tr>\n",
       "  </tbody>\n",
       "</table>\n",
       "</div>"
      ],
      "text/plain": [
       "   age          workclass  fnlwgt   education  education-num  \\\n",
       "0   39          State-gov   77516   Bachelors             13   \n",
       "1   50   Self-emp-not-inc   83311   Bachelors             13   \n",
       "2   38            Private  215646     HS-grad              9   \n",
       "3   53            Private  234721        11th              7   \n",
       "4   28            Private  338409   Bachelors             13   \n",
       "\n",
       "        marital-status          occupation    relationship      sex  \\\n",
       "0        Never-married        Adm-clerical   Not-in-family     Male   \n",
       "1   Married-civ-spouse     Exec-managerial         Husband     Male   \n",
       "2             Divorced   Handlers-cleaners   Not-in-family     Male   \n",
       "3   Married-civ-spouse   Handlers-cleaners         Husband     Male   \n",
       "4   Married-civ-spouse      Prof-specialty            Wife   Female   \n",
       "\n",
       "   capital-gain  capital-loss  hours-per-week  native-country  Income  \n",
       "0          2174             0              40   United-States   <=50K  \n",
       "1             0             0              13   United-States   <=50K  \n",
       "2             0             0              40   United-States   <=50K  \n",
       "3             0             0              40   United-States   <=50K  \n",
       "4             0             0              40            Cuba   <=50K  "
      ]
     },
     "execution_count": 7,
     "metadata": {},
     "output_type": "execute_result"
    }
   ],
   "source": [
    "# Add the column names back to the dataset\n",
    "income_cleaned = pd.read_csv('https://raw.githubusercontent.com/PacktWorkshops/The-Data-Wrangling-Workshop/master/Chapter04/datasets/adult_income_data.csv', names = column_names)\n",
    "\n",
    "# Print first 5 rows to see column headers in action\n",
    "income_cleaned.head(5)"
   ]
  },
  {
   "cell_type": "markdown",
   "id": "58312718",
   "metadata": {},
   "source": [
    "#### 5. Find the missing values."
   ]
  },
  {
   "cell_type": "code",
   "execution_count": 8,
   "id": "17b06dc3",
   "metadata": {},
   "outputs": [
    {
     "data": {
      "text/plain": [
       "age               0\n",
       "workclass         0\n",
       "fnlwgt            0\n",
       "education         0\n",
       "education-num     0\n",
       "marital-status    0\n",
       "occupation        0\n",
       "relationship      0\n",
       "sex               0\n",
       "capital-gain      0\n",
       "capital-loss      0\n",
       "hours-per-week    0\n",
       "native-country    0\n",
       "Income            0\n",
       "dtype: int64"
      ]
     },
     "execution_count": 8,
     "metadata": {},
     "output_type": "execute_result"
    }
   ],
   "source": [
    "# Use isnull() to find null values and sum() to count how many missing values there are in each column\n",
    "income_cleaned.isnull().sum()"
   ]
  },
  {
   "cell_type": "markdown",
   "id": "e4eb8cc2",
   "metadata": {},
   "source": [
    "#### 6. Create a DataFrame with only age, education, and occupation by using subsetting."
   ]
  },
  {
   "cell_type": "code",
   "execution_count": 9,
   "id": "a2649e0e",
   "metadata": {},
   "outputs": [],
   "source": [
    "# Create new dataframe using subsetting that only has columns age, education and occupation\n",
    "income_subset = income_cleaned[['age', 'education', 'occupation']]"
   ]
  },
  {
   "cell_type": "markdown",
   "id": "061ef834",
   "metadata": {},
   "source": [
    "#### 7. Plot a histogram of age with a bin size of 20."
   ]
  },
  {
   "cell_type": "code",
   "execution_count": 10,
   "id": "24b9ac3e",
   "metadata": {},
   "outputs": [
    {
     "data": {
      "image/png": "[encoded data removed]",
      "text/plain": [
       "<Figure size 640x480 with 1 Axes>"
      ]
     },
     "metadata": {},
     "output_type": "display_data"
    }
   ],
   "source": [
    "# Create histogram of age and set bin size to 20\n",
    "income_subset.hist(['age'], color='lightgray', bins=20) # Make the bars the color light gray\n",
    "\n",
    "# Add title to the histogram\n",
    "plt.title('Histogram of Age from Adult Income Dataset')\n",
    "\n",
    "# Add axis labels and show the plot\n",
    "plt.xlabel('Age (yrs)')\n",
    "plt.ylabel('Frequency of Age')\n",
    "plt.show()"
   ]
  },
  {
   "cell_type": "markdown",
   "id": "0439a052",
   "metadata": {},
   "source": [
    "#### 8. Create a function to strip the whitespace of characters."
   ]
  },
  {
   "cell_type": "code",
   "execution_count": 11,
   "id": "d90ac4ac",
   "metadata": {},
   "outputs": [],
   "source": [
    "# Simple function that takes in a column and removes the whitespace of characters using the strip() function\n",
    "def strip_whitespace(column):\n",
    "    return column.strip()"
   ]
  },
  {
   "cell_type": "markdown",
   "id": "3c7e8dfb",
   "metadata": {},
   "source": [
    "#### 9. Use the apply method to apply this function to all the columns with string values, create a new column, copy the values from this new column to the old column, and drop the new column."
   ]
  },
  {
   "cell_type": "code",
   "execution_count": 12,
   "id": "b2a44a47",
   "metadata": {},
   "outputs": [
    {
     "name": "stderr",
     "output_type": "stream",
     "text": [
      "C:\\Users\\ld718712\\AppData\\Local\\Temp\\ipykernel_13800\\1781467783.py:3: SettingWithCopyWarning: \n",
      "A value is trying to be set on a copy of a slice from a DataFrame.\n",
      "Try using .loc[row_indexer,col_indexer] = value instead\n",
      "\n",
      "See the caveats in the documentation: https://pandas.pydata.org/pandas-docs/stable/user_guide/indexing.html#returning-a-view-versus-a-copy\n",
      "  income_subset['workclass_cleaned'] = income_cleaned['workclass'].apply(strip_whitespace)\n",
      "C:\\Users\\ld718712\\AppData\\Local\\Temp\\ipykernel_13800\\1781467783.py:6: SettingWithCopyWarning: \n",
      "A value is trying to be set on a copy of a slice from a DataFrame.\n",
      "Try using .loc[row_indexer,col_indexer] = value instead\n",
      "\n",
      "See the caveats in the documentation: https://pandas.pydata.org/pandas-docs/stable/user_guide/indexing.html#returning-a-view-versus-a-copy\n",
      "  income_subset['workclass'] = income_subset['workclass_cleaned']\n",
      "C:\\Users\\ld718712\\AppData\\Local\\Temp\\ipykernel_13800\\1781467783.py:9: SettingWithCopyWarning: \n",
      "A value is trying to be set on a copy of a slice from a DataFrame\n",
      "\n",
      "See the caveats in the documentation: https://pandas.pydata.org/pandas-docs/stable/user_guide/indexing.html#returning-a-view-versus-a-copy\n",
      "  income_subset.drop(labels = ['workclass_cleaned'], axis = 1, inplace = True)\n"
     ]
    }
   ],
   "source": [
    "# For the workclass column\n",
    "# Create new column called 'workclass_cleaned' that houses the stripped workclass column\n",
    "income_subset['workclass_cleaned'] = income_cleaned['workclass'].apply(strip_whitespace)\n",
    "\n",
    "# Copy the values from the new stripped column to the old column\n",
    "income_subset['workclass'] = income_subset['workclass_cleaned']\n",
    "\n",
    "# Drop the stripped column (no longer needed)\n",
    "income_subset.drop(labels = ['workclass_cleaned'], axis = 1, inplace = True)"
   ]
  },
  {
   "cell_type": "code",
   "execution_count": 13,
   "id": "d98d3739",
   "metadata": {},
   "outputs": [
    {
     "name": "stderr",
     "output_type": "stream",
     "text": [
      "C:\\Users\\ld718712\\AppData\\Local\\Temp\\ipykernel_13800\\332830172.py:3: SettingWithCopyWarning: \n",
      "A value is trying to be set on a copy of a slice from a DataFrame.\n",
      "Try using .loc[row_indexer,col_indexer] = value instead\n",
      "\n",
      "See the caveats in the documentation: https://pandas.pydata.org/pandas-docs/stable/user_guide/indexing.html#returning-a-view-versus-a-copy\n",
      "  income_subset['education_cleaned'] = income_cleaned['education'].apply(strip_whitespace)\n",
      "C:\\Users\\ld718712\\AppData\\Local\\Temp\\ipykernel_13800\\332830172.py:6: SettingWithCopyWarning: \n",
      "A value is trying to be set on a copy of a slice from a DataFrame.\n",
      "Try using .loc[row_indexer,col_indexer] = value instead\n",
      "\n",
      "See the caveats in the documentation: https://pandas.pydata.org/pandas-docs/stable/user_guide/indexing.html#returning-a-view-versus-a-copy\n",
      "  income_subset['education'] = income_subset['education_cleaned']\n",
      "C:\\Users\\ld718712\\AppData\\Local\\Temp\\ipykernel_13800\\332830172.py:9: SettingWithCopyWarning: \n",
      "A value is trying to be set on a copy of a slice from a DataFrame\n",
      "\n",
      "See the caveats in the documentation: https://pandas.pydata.org/pandas-docs/stable/user_guide/indexing.html#returning-a-view-versus-a-copy\n",
      "  income_subset.drop(labels = ['education_cleaned'], axis = 1, inplace = True)\n"
     ]
    }
   ],
   "source": [
    "# For the education column\n",
    "# Create new column called 'education_cleaned' that houses the stripped education column\n",
    "income_subset['education_cleaned'] = income_cleaned['education'].apply(strip_whitespace)\n",
    "\n",
    "# Copy the values from the new stripped column to the old column\n",
    "income_subset['education'] = income_subset['education_cleaned']\n",
    "\n",
    "# Drop the stripped column (no longer needed)\n",
    "income_subset.drop(labels = ['education_cleaned'], axis = 1, inplace = True)"
   ]
  },
  {
   "cell_type": "code",
   "execution_count": 14,
   "id": "b55da575",
   "metadata": {},
   "outputs": [
    {
     "name": "stderr",
     "output_type": "stream",
     "text": [
      "C:\\Users\\ld718712\\AppData\\Local\\Temp\\ipykernel_13800\\768288020.py:3: SettingWithCopyWarning: \n",
      "A value is trying to be set on a copy of a slice from a DataFrame.\n",
      "Try using .loc[row_indexer,col_indexer] = value instead\n",
      "\n",
      "See the caveats in the documentation: https://pandas.pydata.org/pandas-docs/stable/user_guide/indexing.html#returning-a-view-versus-a-copy\n",
      "  income_subset['marital-status_cleaned'] = income_cleaned['marital-status'].apply(strip_whitespace)\n",
      "C:\\Users\\ld718712\\AppData\\Local\\Temp\\ipykernel_13800\\768288020.py:6: SettingWithCopyWarning: \n",
      "A value is trying to be set on a copy of a slice from a DataFrame.\n",
      "Try using .loc[row_indexer,col_indexer] = value instead\n",
      "\n",
      "See the caveats in the documentation: https://pandas.pydata.org/pandas-docs/stable/user_guide/indexing.html#returning-a-view-versus-a-copy\n",
      "  income_subset['marital-status'] = income_subset['marital-status_cleaned']\n",
      "C:\\Users\\ld718712\\AppData\\Local\\Temp\\ipykernel_13800\\768288020.py:9: SettingWithCopyWarning: \n",
      "A value is trying to be set on a copy of a slice from a DataFrame\n",
      "\n",
      "See the caveats in the documentation: https://pandas.pydata.org/pandas-docs/stable/user_guide/indexing.html#returning-a-view-versus-a-copy\n",
      "  income_subset.drop(labels = ['marital-status_cleaned'], axis = 1, inplace = True)\n"
     ]
    }
   ],
   "source": [
    "# For the marital-status column\n",
    "# Create new column called 'marital-status_cleaned' that houses the stripped marital-status column\n",
    "income_subset['marital-status_cleaned'] = income_cleaned['marital-status'].apply(strip_whitespace)\n",
    "\n",
    "# Copy the values from the new stripped column to the old column\n",
    "income_subset['marital-status'] = income_subset['marital-status_cleaned']\n",
    "\n",
    "# Drop the stripped column (no longer needed)\n",
    "income_subset.drop(labels = ['marital-status_cleaned'], axis = 1, inplace = True)"
   ]
  },
  {
   "cell_type": "code",
   "execution_count": 15,
   "id": "a75aba1b",
   "metadata": {},
   "outputs": [
    {
     "name": "stderr",
     "output_type": "stream",
     "text": [
      "C:\\Users\\ld718712\\AppData\\Local\\Temp\\ipykernel_13800\\1851268613.py:3: SettingWithCopyWarning: \n",
      "A value is trying to be set on a copy of a slice from a DataFrame.\n",
      "Try using .loc[row_indexer,col_indexer] = value instead\n",
      "\n",
      "See the caveats in the documentation: https://pandas.pydata.org/pandas-docs/stable/user_guide/indexing.html#returning-a-view-versus-a-copy\n",
      "  income_subset['occupation_cleaned'] = income_cleaned['occupation'].apply(strip_whitespace)\n",
      "C:\\Users\\ld718712\\AppData\\Local\\Temp\\ipykernel_13800\\1851268613.py:6: SettingWithCopyWarning: \n",
      "A value is trying to be set on a copy of a slice from a DataFrame.\n",
      "Try using .loc[row_indexer,col_indexer] = value instead\n",
      "\n",
      "See the caveats in the documentation: https://pandas.pydata.org/pandas-docs/stable/user_guide/indexing.html#returning-a-view-versus-a-copy\n",
      "  income_subset['occupation'] = income_subset['occupation_cleaned']\n",
      "C:\\Users\\ld718712\\AppData\\Local\\Temp\\ipykernel_13800\\1851268613.py:9: SettingWithCopyWarning: \n",
      "A value is trying to be set on a copy of a slice from a DataFrame\n",
      "\n",
      "See the caveats in the documentation: https://pandas.pydata.org/pandas-docs/stable/user_guide/indexing.html#returning-a-view-versus-a-copy\n",
      "  income_subset.drop(labels = ['occupation_cleaned'], axis = 1, inplace = True)\n"
     ]
    }
   ],
   "source": [
    "# For the occupation column\n",
    "# Create new column called 'occupation_cleaned' that houses the stripped occupation column\n",
    "income_subset['occupation_cleaned'] = income_cleaned['occupation'].apply(strip_whitespace)\n",
    "\n",
    "# Copy the values from the new stripped column to the old column\n",
    "income_subset['occupation'] = income_subset['occupation_cleaned']\n",
    "\n",
    "# Drop the stripped column (no longer needed)\n",
    "income_subset.drop(labels = ['occupation_cleaned'], axis = 1, inplace = True)"
   ]
  },
  {
   "cell_type": "code",
   "execution_count": 16,
   "id": "7c5c7bf1",
   "metadata": {},
   "outputs": [
    {
     "name": "stderr",
     "output_type": "stream",
     "text": [
      "C:\\Users\\ld718712\\AppData\\Local\\Temp\\ipykernel_13800\\2298091279.py:3: SettingWithCopyWarning: \n",
      "A value is trying to be set on a copy of a slice from a DataFrame.\n",
      "Try using .loc[row_indexer,col_indexer] = value instead\n",
      "\n",
      "See the caveats in the documentation: https://pandas.pydata.org/pandas-docs/stable/user_guide/indexing.html#returning-a-view-versus-a-copy\n",
      "  income_subset['relationship_cleaned'] = income_cleaned['relationship'].apply(strip_whitespace)\n",
      "C:\\Users\\ld718712\\AppData\\Local\\Temp\\ipykernel_13800\\2298091279.py:6: SettingWithCopyWarning: \n",
      "A value is trying to be set on a copy of a slice from a DataFrame.\n",
      "Try using .loc[row_indexer,col_indexer] = value instead\n",
      "\n",
      "See the caveats in the documentation: https://pandas.pydata.org/pandas-docs/stable/user_guide/indexing.html#returning-a-view-versus-a-copy\n",
      "  income_subset['relationship'] = income_subset['relationship_cleaned']\n",
      "C:\\Users\\ld718712\\AppData\\Local\\Temp\\ipykernel_13800\\2298091279.py:9: SettingWithCopyWarning: \n",
      "A value is trying to be set on a copy of a slice from a DataFrame\n",
      "\n",
      "See the caveats in the documentation: https://pandas.pydata.org/pandas-docs/stable/user_guide/indexing.html#returning-a-view-versus-a-copy\n",
      "  income_subset.drop(labels = ['relationship_cleaned'], axis = 1, inplace = True)\n"
     ]
    }
   ],
   "source": [
    "# For the relationship column\n",
    "# Create new column called 'relationship_cleaned' that houses the stripped relationship column\n",
    "income_subset['relationship_cleaned'] = income_cleaned['relationship'].apply(strip_whitespace)\n",
    "\n",
    "# Copy the values from the new stripped column to the old column\n",
    "income_subset['relationship'] = income_subset['relationship_cleaned']\n",
    "\n",
    "# Drop the stripped column (no longer needed)\n",
    "income_subset.drop(labels = ['relationship_cleaned'], axis = 1, inplace = True)"
   ]
  },
  {
   "cell_type": "code",
   "execution_count": 17,
   "id": "6c7fb99c",
   "metadata": {},
   "outputs": [
    {
     "name": "stderr",
     "output_type": "stream",
     "text": [
      "C:\\Users\\ld718712\\AppData\\Local\\Temp\\ipykernel_13800\\534782067.py:3: SettingWithCopyWarning: \n",
      "A value is trying to be set on a copy of a slice from a DataFrame.\n",
      "Try using .loc[row_indexer,col_indexer] = value instead\n",
      "\n",
      "See the caveats in the documentation: https://pandas.pydata.org/pandas-docs/stable/user_guide/indexing.html#returning-a-view-versus-a-copy\n",
      "  income_subset['sex_cleaned'] = income_cleaned['sex'].apply(strip_whitespace)\n",
      "C:\\Users\\ld718712\\AppData\\Local\\Temp\\ipykernel_13800\\534782067.py:6: SettingWithCopyWarning: \n",
      "A value is trying to be set on a copy of a slice from a DataFrame.\n",
      "Try using .loc[row_indexer,col_indexer] = value instead\n",
      "\n",
      "See the caveats in the documentation: https://pandas.pydata.org/pandas-docs/stable/user_guide/indexing.html#returning-a-view-versus-a-copy\n",
      "  income_subset['sex'] = income_subset['sex_cleaned']\n",
      "C:\\Users\\ld718712\\AppData\\Local\\Temp\\ipykernel_13800\\534782067.py:9: SettingWithCopyWarning: \n",
      "A value is trying to be set on a copy of a slice from a DataFrame\n",
      "\n",
      "See the caveats in the documentation: https://pandas.pydata.org/pandas-docs/stable/user_guide/indexing.html#returning-a-view-versus-a-copy\n",
      "  income_subset.drop(labels = ['sex_cleaned'], axis = 1, inplace = True)\n"
     ]
    }
   ],
   "source": [
    "# For the sex column\n",
    "# Create new column called 'sex_cleaned' that houses the stripped sex column\n",
    "income_subset['sex_cleaned'] = income_cleaned['sex'].apply(strip_whitespace)\n",
    "\n",
    "# Copy the values from the new stripped column to the old column\n",
    "income_subset['sex'] = income_subset['sex_cleaned']\n",
    "\n",
    "# Drop the stripped column (no longer needed)\n",
    "income_subset.drop(labels = ['sex_cleaned'], axis = 1, inplace = True)"
   ]
  },
  {
   "cell_type": "code",
   "execution_count": 18,
   "id": "73f9425b",
   "metadata": {},
   "outputs": [
    {
     "name": "stderr",
     "output_type": "stream",
     "text": [
      "C:\\Users\\ld718712\\AppData\\Local\\Temp\\ipykernel_13800\\1923027584.py:3: SettingWithCopyWarning: \n",
      "A value is trying to be set on a copy of a slice from a DataFrame.\n",
      "Try using .loc[row_indexer,col_indexer] = value instead\n",
      "\n",
      "See the caveats in the documentation: https://pandas.pydata.org/pandas-docs/stable/user_guide/indexing.html#returning-a-view-versus-a-copy\n",
      "  income_subset['native-country_cleaned'] = income_cleaned['native-country'].apply(strip_whitespace)\n",
      "C:\\Users\\ld718712\\AppData\\Local\\Temp\\ipykernel_13800\\1923027584.py:6: SettingWithCopyWarning: \n",
      "A value is trying to be set on a copy of a slice from a DataFrame.\n",
      "Try using .loc[row_indexer,col_indexer] = value instead\n",
      "\n",
      "See the caveats in the documentation: https://pandas.pydata.org/pandas-docs/stable/user_guide/indexing.html#returning-a-view-versus-a-copy\n",
      "  income_subset['native-country'] = income_subset['native-country_cleaned']\n",
      "C:\\Users\\ld718712\\AppData\\Local\\Temp\\ipykernel_13800\\1923027584.py:9: SettingWithCopyWarning: \n",
      "A value is trying to be set on a copy of a slice from a DataFrame\n",
      "\n",
      "See the caveats in the documentation: https://pandas.pydata.org/pandas-docs/stable/user_guide/indexing.html#returning-a-view-versus-a-copy\n",
      "  income_subset.drop(labels = ['native-country_cleaned'], axis = 1, inplace = True)\n"
     ]
    }
   ],
   "source": [
    "# For the native-country column\n",
    "# Create new column called 'native-country_cleaned' that houses the stripped native-country column\n",
    "income_subset['native-country_cleaned'] = income_cleaned['native-country'].apply(strip_whitespace)\n",
    "\n",
    "# Copy the values from the new stripped column to the old column\n",
    "income_subset['native-country'] = income_subset['native-country_cleaned']\n",
    "\n",
    "# Drop the stripped column (no longer needed)\n",
    "income_subset.drop(labels = ['native-country_cleaned'], axis = 1, inplace = True)"
   ]
  },
  {
   "cell_type": "markdown",
   "id": "f5205ba5",
   "metadata": {},
   "source": [
    "#### 10. Find the number of people who are aged between 30 and 50."
   ]
  },
  {
   "cell_type": "code",
   "execution_count": 19,
   "id": "ac3e7d84",
   "metadata": {},
   "outputs": [
    {
     "name": "stdout",
     "output_type": "stream",
     "text": [
      "Number of people who are aged between 30 and 50: 16390\n"
     ]
    }
   ],
   "source": [
    "# Variable that will be used to increment by 1 every time a person between the age of 30 and 50 is found\n",
    "num_people = 0\n",
    "\n",
    "# Loop through the values in the age column of the dataset\n",
    "for value in income_subset['age']:\n",
    "    # If the age is between 30 and 50 (inclusive), add one to the count\n",
    "    if value >= 30 and value <= 50:\n",
    "        num_people += 1\n",
    "\n",
    "# Print the number of people found between the age of 30 and 50\n",
    "print('Number of people who are aged between 30 and 50:', num_people)"
   ]
  },
  {
   "cell_type": "markdown",
   "id": "ec42cd87",
   "metadata": {},
   "source": [
    "#### 11. Group the records based on age and education to find how the mean age is distributed."
   ]
  },
  {
   "cell_type": "code",
   "execution_count": 23,
   "id": "4bc55a01",
   "metadata": {},
   "outputs": [
    {
     "data": {
      "text/html": [
       "<div>\n",
       "<style scoped>\n",
       "    .dataframe tbody tr th:only-of-type {\n",
       "        vertical-align: middle;\n",
       "    }\n",
       "\n",
       "    .dataframe tbody tr th {\n",
       "        vertical-align: top;\n",
       "    }\n",
       "\n",
       "    .dataframe thead th {\n",
       "        text-align: right;\n",
       "    }\n",
       "</style>\n",
       "<table border=\"1\" class=\"dataframe\">\n",
       "  <thead>\n",
       "    <tr style=\"text-align: right;\">\n",
       "      <th></th>\n",
       "      <th>age</th>\n",
       "      <th>education</th>\n",
       "    </tr>\n",
       "  </thead>\n",
       "  <tbody>\n",
       "    <tr>\n",
       "      <th>0</th>\n",
       "      <td>17</td>\n",
       "      <td>10th</td>\n",
       "    </tr>\n",
       "    <tr>\n",
       "      <th>1</th>\n",
       "      <td>17</td>\n",
       "      <td>11th</td>\n",
       "    </tr>\n",
       "    <tr>\n",
       "      <th>2</th>\n",
       "      <td>17</td>\n",
       "      <td>12th</td>\n",
       "    </tr>\n",
       "    <tr>\n",
       "      <th>3</th>\n",
       "      <td>17</td>\n",
       "      <td>5th-6th</td>\n",
       "    </tr>\n",
       "    <tr>\n",
       "      <th>4</th>\n",
       "      <td>17</td>\n",
       "      <td>7th-8th</td>\n",
       "    </tr>\n",
       "    <tr>\n",
       "      <th>...</th>\n",
       "      <td>...</td>\n",
       "      <td>...</td>\n",
       "    </tr>\n",
       "    <tr>\n",
       "      <th>960</th>\n",
       "      <td>90</td>\n",
       "      <td>Bachelors</td>\n",
       "    </tr>\n",
       "    <tr>\n",
       "      <th>961</th>\n",
       "      <td>90</td>\n",
       "      <td>HS-grad</td>\n",
       "    </tr>\n",
       "    <tr>\n",
       "      <th>962</th>\n",
       "      <td>90</td>\n",
       "      <td>Masters</td>\n",
       "    </tr>\n",
       "    <tr>\n",
       "      <th>963</th>\n",
       "      <td>90</td>\n",
       "      <td>Prof-school</td>\n",
       "    </tr>\n",
       "    <tr>\n",
       "      <th>964</th>\n",
       "      <td>90</td>\n",
       "      <td>Some-college</td>\n",
       "    </tr>\n",
       "  </tbody>\n",
       "</table>\n",
       "<p>965 rows × 2 columns</p>\n",
       "</div>"
      ],
      "text/plain": [
       "     age     education\n",
       "0     17          10th\n",
       "1     17          11th\n",
       "2     17          12th\n",
       "3     17       5th-6th\n",
       "4     17       7th-8th\n",
       "..   ...           ...\n",
       "960   90     Bachelors\n",
       "961   90       HS-grad\n",
       "962   90       Masters\n",
       "963   90   Prof-school\n",
       "964   90  Some-college\n",
       "\n",
       "[965 rows x 2 columns]"
      ]
     },
     "execution_count": 23,
     "metadata": {},
     "output_type": "execute_result"
    }
   ],
   "source": [
    "# Group by age and education using grouby()\n",
    "income_by_age = income_subset.groupby(['age', 'education'])\n",
    "\n",
    "\n",
    "# Group by age and education, take mean of numeric columns only\n",
    "income_by_age.mean(numeric_only=True).reset_index()"
   ]
  },
  {
   "cell_type": "markdown",
   "id": "931f479d",
   "metadata": {},
   "source": [
    "#### 12. Group by occupation and show the summary statistics of age. Find which profession has the oldest workers on average and which profession has its largest share of the workforce above the 75th percentile."
   ]
  },
  {
   "cell_type": "code",
   "execution_count": 24,
   "id": "af6bd789",
   "metadata": {},
   "outputs": [
    {
     "data": {
      "text/html": [
       "<div>\n",
       "<style scoped>\n",
       "    .dataframe tbody tr th:only-of-type {\n",
       "        vertical-align: middle;\n",
       "    }\n",
       "\n",
       "    .dataframe tbody tr th {\n",
       "        vertical-align: top;\n",
       "    }\n",
       "\n",
       "    .dataframe thead th {\n",
       "        text-align: right;\n",
       "    }\n",
       "</style>\n",
       "<table border=\"1\" class=\"dataframe\">\n",
       "  <thead>\n",
       "    <tr style=\"text-align: right;\">\n",
       "      <th></th>\n",
       "      <th>count</th>\n",
       "      <th>mean</th>\n",
       "      <th>std</th>\n",
       "      <th>min</th>\n",
       "      <th>25%</th>\n",
       "      <th>50%</th>\n",
       "      <th>75%</th>\n",
       "      <th>max</th>\n",
       "    </tr>\n",
       "    <tr>\n",
       "      <th>occupation</th>\n",
       "      <th></th>\n",
       "      <th></th>\n",
       "      <th></th>\n",
       "      <th></th>\n",
       "      <th></th>\n",
       "      <th></th>\n",
       "      <th></th>\n",
       "      <th></th>\n",
       "    </tr>\n",
       "  </thead>\n",
       "  <tbody>\n",
       "    <tr>\n",
       "      <th>?</th>\n",
       "      <td>1843.0</td>\n",
       "      <td>40.882800</td>\n",
       "      <td>20.336350</td>\n",
       "      <td>17.0</td>\n",
       "      <td>21.0</td>\n",
       "      <td>35.0</td>\n",
       "      <td>61.0</td>\n",
       "      <td>90.0</td>\n",
       "    </tr>\n",
       "    <tr>\n",
       "      <th>Adm-clerical</th>\n",
       "      <td>3770.0</td>\n",
       "      <td>36.964456</td>\n",
       "      <td>13.362998</td>\n",
       "      <td>17.0</td>\n",
       "      <td>26.0</td>\n",
       "      <td>35.0</td>\n",
       "      <td>46.0</td>\n",
       "      <td>90.0</td>\n",
       "    </tr>\n",
       "    <tr>\n",
       "      <th>Armed-Forces</th>\n",
       "      <td>9.0</td>\n",
       "      <td>30.222222</td>\n",
       "      <td>8.089774</td>\n",
       "      <td>23.0</td>\n",
       "      <td>24.0</td>\n",
       "      <td>29.0</td>\n",
       "      <td>34.0</td>\n",
       "      <td>46.0</td>\n",
       "    </tr>\n",
       "    <tr>\n",
       "      <th>Craft-repair</th>\n",
       "      <td>4099.0</td>\n",
       "      <td>39.031471</td>\n",
       "      <td>11.606436</td>\n",
       "      <td>17.0</td>\n",
       "      <td>30.0</td>\n",
       "      <td>38.0</td>\n",
       "      <td>47.0</td>\n",
       "      <td>90.0</td>\n",
       "    </tr>\n",
       "    <tr>\n",
       "      <th>Exec-managerial</th>\n",
       "      <td>4066.0</td>\n",
       "      <td>42.169208</td>\n",
       "      <td>11.974548</td>\n",
       "      <td>17.0</td>\n",
       "      <td>33.0</td>\n",
       "      <td>41.0</td>\n",
       "      <td>50.0</td>\n",
       "      <td>90.0</td>\n",
       "    </tr>\n",
       "    <tr>\n",
       "      <th>Farming-fishing</th>\n",
       "      <td>994.0</td>\n",
       "      <td>41.211268</td>\n",
       "      <td>15.070283</td>\n",
       "      <td>17.0</td>\n",
       "      <td>29.0</td>\n",
       "      <td>39.0</td>\n",
       "      <td>52.0</td>\n",
       "      <td>90.0</td>\n",
       "    </tr>\n",
       "    <tr>\n",
       "      <th>Handlers-cleaners</th>\n",
       "      <td>1370.0</td>\n",
       "      <td>32.165693</td>\n",
       "      <td>12.372635</td>\n",
       "      <td>17.0</td>\n",
       "      <td>23.0</td>\n",
       "      <td>29.0</td>\n",
       "      <td>39.0</td>\n",
       "      <td>90.0</td>\n",
       "    </tr>\n",
       "    <tr>\n",
       "      <th>Machine-op-inspct</th>\n",
       "      <td>2002.0</td>\n",
       "      <td>37.715285</td>\n",
       "      <td>12.068266</td>\n",
       "      <td>17.0</td>\n",
       "      <td>28.0</td>\n",
       "      <td>36.0</td>\n",
       "      <td>46.0</td>\n",
       "      <td>90.0</td>\n",
       "    </tr>\n",
       "    <tr>\n",
       "      <th>Other-service</th>\n",
       "      <td>3295.0</td>\n",
       "      <td>34.949621</td>\n",
       "      <td>14.521508</td>\n",
       "      <td>17.0</td>\n",
       "      <td>22.0</td>\n",
       "      <td>32.0</td>\n",
       "      <td>45.0</td>\n",
       "      <td>90.0</td>\n",
       "    </tr>\n",
       "    <tr>\n",
       "      <th>Priv-house-serv</th>\n",
       "      <td>149.0</td>\n",
       "      <td>41.724832</td>\n",
       "      <td>18.633688</td>\n",
       "      <td>17.0</td>\n",
       "      <td>24.0</td>\n",
       "      <td>40.0</td>\n",
       "      <td>57.0</td>\n",
       "      <td>81.0</td>\n",
       "    </tr>\n",
       "    <tr>\n",
       "      <th>Prof-specialty</th>\n",
       "      <td>4140.0</td>\n",
       "      <td>40.517633</td>\n",
       "      <td>12.016676</td>\n",
       "      <td>17.0</td>\n",
       "      <td>31.0</td>\n",
       "      <td>40.0</td>\n",
       "      <td>48.0</td>\n",
       "      <td>90.0</td>\n",
       "    </tr>\n",
       "    <tr>\n",
       "      <th>Protective-serv</th>\n",
       "      <td>649.0</td>\n",
       "      <td>38.953775</td>\n",
       "      <td>12.822062</td>\n",
       "      <td>17.0</td>\n",
       "      <td>29.0</td>\n",
       "      <td>36.0</td>\n",
       "      <td>47.0</td>\n",
       "      <td>90.0</td>\n",
       "    </tr>\n",
       "    <tr>\n",
       "      <th>Sales</th>\n",
       "      <td>3650.0</td>\n",
       "      <td>37.353973</td>\n",
       "      <td>14.186352</td>\n",
       "      <td>17.0</td>\n",
       "      <td>25.0</td>\n",
       "      <td>35.0</td>\n",
       "      <td>47.0</td>\n",
       "      <td>90.0</td>\n",
       "    </tr>\n",
       "    <tr>\n",
       "      <th>Tech-support</th>\n",
       "      <td>928.0</td>\n",
       "      <td>37.022629</td>\n",
       "      <td>11.316594</td>\n",
       "      <td>17.0</td>\n",
       "      <td>28.0</td>\n",
       "      <td>36.0</td>\n",
       "      <td>44.0</td>\n",
       "      <td>73.0</td>\n",
       "    </tr>\n",
       "    <tr>\n",
       "      <th>Transport-moving</th>\n",
       "      <td>1597.0</td>\n",
       "      <td>40.197871</td>\n",
       "      <td>12.450792</td>\n",
       "      <td>17.0</td>\n",
       "      <td>30.0</td>\n",
       "      <td>39.0</td>\n",
       "      <td>49.0</td>\n",
       "      <td>90.0</td>\n",
       "    </tr>\n",
       "  </tbody>\n",
       "</table>\n",
       "</div>"
      ],
      "text/plain": [
       "                    count       mean        std   min   25%   50%   75%   max\n",
       "occupation                                                                   \n",
       "?                  1843.0  40.882800  20.336350  17.0  21.0  35.0  61.0  90.0\n",
       "Adm-clerical       3770.0  36.964456  13.362998  17.0  26.0  35.0  46.0  90.0\n",
       "Armed-Forces          9.0  30.222222   8.089774  23.0  24.0  29.0  34.0  46.0\n",
       "Craft-repair       4099.0  39.031471  11.606436  17.0  30.0  38.0  47.0  90.0\n",
       "Exec-managerial    4066.0  42.169208  11.974548  17.0  33.0  41.0  50.0  90.0\n",
       "Farming-fishing     994.0  41.211268  15.070283  17.0  29.0  39.0  52.0  90.0\n",
       "Handlers-cleaners  1370.0  32.165693  12.372635  17.0  23.0  29.0  39.0  90.0\n",
       "Machine-op-inspct  2002.0  37.715285  12.068266  17.0  28.0  36.0  46.0  90.0\n",
       "Other-service      3295.0  34.949621  14.521508  17.0  22.0  32.0  45.0  90.0\n",
       "Priv-house-serv     149.0  41.724832  18.633688  17.0  24.0  40.0  57.0  81.0\n",
       "Prof-specialty     4140.0  40.517633  12.016676  17.0  31.0  40.0  48.0  90.0\n",
       "Protective-serv     649.0  38.953775  12.822062  17.0  29.0  36.0  47.0  90.0\n",
       "Sales              3650.0  37.353973  14.186352  17.0  25.0  35.0  47.0  90.0\n",
       "Tech-support        928.0  37.022629  11.316594  17.0  28.0  36.0  44.0  73.0\n",
       "Transport-moving   1597.0  40.197871  12.450792  17.0  30.0  39.0  49.0  90.0"
      ]
     },
     "execution_count": 24,
     "metadata": {},
     "output_type": "execute_result"
    }
   ],
   "source": [
    "# Groupby occupation using the groupby() function and get the summary statistics of age by using the describe() function\n",
    "# and point to the column 'age'\n",
    "income_subset.groupby('occupation').describe()['age']"
   ]
  },
  {
   "cell_type": "code",
   "execution_count": 25,
   "id": "42c6fff4",
   "metadata": {},
   "outputs": [
    {
     "name": "stdout",
     "output_type": "stream",
     "text": [
      "Profession with oldest workers on average: Exec-managerial\n"
     ]
    }
   ],
   "source": [
    "# Create a dataframe to hold the income data grouped by occupation and desribed by age\n",
    "stats = income_subset.groupby('occupation').describe()['age']\n",
    "\n",
    "# Grab the max mean and the ID (occupation) it is associated with\n",
    "oldest_workers = stats['mean'].idxmax()\n",
    "\n",
    "# Print the answer\n",
    "print('Profession with oldest workers on average:', oldest_workers)"
   ]
  },
  {
   "cell_type": "code",
   "execution_count": 26,
   "id": "3e74e085",
   "metadata": {},
   "outputs": [
    {
     "name": "stdout",
     "output_type": "stream",
     "text": [
      "Profession with the largest share of the workforce above the 75th percentile: Priv-house-serv\n"
     ]
    }
   ],
   "source": [
    "# Keep all rows except for the top row that has occupation as a question mark\n",
    "stats = stats[1:]\n",
    "\n",
    "# Grab the max 75% percentile and the ID (occupation) it is associated with\n",
    "largest_share_75 = stats['75%'].idxmax()\n",
    "\n",
    "# Print the answer\n",
    "print('Profession with the largest share of the workforce above the 75th percentile:', largest_share_75)"
   ]
  },
  {
   "cell_type": "markdown",
   "id": "1b665d94",
   "metadata": {},
   "source": [
    "#### 13. Use subset and groupBy to find the outliers."
   ]
  },
  {
   "cell_type": "code",
   "execution_count": 27,
   "id": "0f246ad9",
   "metadata": {},
   "outputs": [],
   "source": [
    "# Use the describe method again to find outliers when grouping by occupation as the describe method automatically includes\n",
    "# info about outliers\n",
    "stats_df = income_subset.groupby('occupation').describe()['age']"
   ]
  },
  {
   "cell_type": "markdown",
   "id": "abdecfe9",
   "metadata": {},
   "source": [
    "#### 14. Plot the outlier values on a bar chart."
   ]
  },
  {
   "cell_type": "code",
   "execution_count": 28,
   "id": "f4d7eefe",
   "metadata": {},
   "outputs": [
    {
     "data": {
      "image/png": "[encoded data removed]",
      "text/plain": [
       "<Figure size 640x480 with 1 Axes>"
      ]
     },
     "metadata": {},
     "output_type": "display_data"
    }
   ],
   "source": [
    "# Plot the outlier values found using barh() associated with each occupation, to see the number of data points for each\n",
    "# occupation\n",
    "plt.barh(y = stats_df.index, width = stats_df['count'])\n",
    "plt.show()"
   ]
  },
  {
   "cell_type": "markdown",
   "id": "f8b28fef",
   "metadata": {},
   "source": [
    "#### 15. Merge the two DataFrames using common keys to drop duplicate values."
   ]
  },
  {
   "cell_type": "code",
   "execution_count": 29,
   "id": "ece917c6",
   "metadata": {},
   "outputs": [],
   "source": [
    "# Create the first subset dataframe with columns education, age and relationship\n",
    "first_df = income_cleaned[['education','age','relationship']]\n",
    "\n",
    "# Create the second subset dataframe with columns age, occupation and Income\n",
    "second_df = income_cleaned[['age','occupation', 'Income']]"
   ]
  },
  {
   "cell_type": "code",
   "execution_count": 30,
   "id": "73c478b4",
   "metadata": {},
   "outputs": [
    {
     "data": {
      "text/html": [
       "<div>\n",
       "<style scoped>\n",
       "    .dataframe tbody tr th:only-of-type {\n",
       "        vertical-align: middle;\n",
       "    }\n",
       "\n",
       "    .dataframe tbody tr th {\n",
       "        vertical-align: top;\n",
       "    }\n",
       "\n",
       "    .dataframe thead th {\n",
       "        text-align: right;\n",
       "    }\n",
       "</style>\n",
       "<table border=\"1\" class=\"dataframe\">\n",
       "  <thead>\n",
       "    <tr style=\"text-align: right;\">\n",
       "      <th></th>\n",
       "      <th>education</th>\n",
       "      <th>age</th>\n",
       "      <th>relationship</th>\n",
       "      <th>occupation</th>\n",
       "      <th>Income</th>\n",
       "    </tr>\n",
       "  </thead>\n",
       "  <tbody>\n",
       "    <tr>\n",
       "      <th>0</th>\n",
       "      <td>Bachelors</td>\n",
       "      <td>39</td>\n",
       "      <td>Not-in-family</td>\n",
       "      <td>Adm-clerical</td>\n",
       "      <td>&lt;=50K</td>\n",
       "    </tr>\n",
       "    <tr>\n",
       "      <th>1</th>\n",
       "      <td>Bachelors</td>\n",
       "      <td>39</td>\n",
       "      <td>Not-in-family</td>\n",
       "      <td>Exec-managerial</td>\n",
       "      <td>&lt;=50K</td>\n",
       "    </tr>\n",
       "    <tr>\n",
       "      <th>2</th>\n",
       "      <td>Bachelors</td>\n",
       "      <td>39</td>\n",
       "      <td>Not-in-family</td>\n",
       "      <td>Craft-repair</td>\n",
       "      <td>&lt;=50K</td>\n",
       "    </tr>\n",
       "    <tr>\n",
       "      <th>3</th>\n",
       "      <td>Bachelors</td>\n",
       "      <td>39</td>\n",
       "      <td>Not-in-family</td>\n",
       "      <td>Exec-managerial</td>\n",
       "      <td>&lt;=50K</td>\n",
       "    </tr>\n",
       "    <tr>\n",
       "      <th>4</th>\n",
       "      <td>Bachelors</td>\n",
       "      <td>39</td>\n",
       "      <td>Not-in-family</td>\n",
       "      <td>?</td>\n",
       "      <td>&lt;=50K</td>\n",
       "    </tr>\n",
       "    <tr>\n",
       "      <th>...</th>\n",
       "      <td>...</td>\n",
       "      <td>...</td>\n",
       "      <td>...</td>\n",
       "      <td>...</td>\n",
       "      <td>...</td>\n",
       "    </tr>\n",
       "    <tr>\n",
       "      <th>22637498</th>\n",
       "      <td>HS-grad</td>\n",
       "      <td>52</td>\n",
       "      <td>Wife</td>\n",
       "      <td>Exec-managerial</td>\n",
       "      <td>&gt;50K</td>\n",
       "    </tr>\n",
       "    <tr>\n",
       "      <th>22637499</th>\n",
       "      <td>HS-grad</td>\n",
       "      <td>52</td>\n",
       "      <td>Wife</td>\n",
       "      <td>Prof-specialty</td>\n",
       "      <td>&lt;=50K</td>\n",
       "    </tr>\n",
       "    <tr>\n",
       "      <th>22637500</th>\n",
       "      <td>HS-grad</td>\n",
       "      <td>52</td>\n",
       "      <td>Wife</td>\n",
       "      <td>Other-service</td>\n",
       "      <td>&lt;=50K</td>\n",
       "    </tr>\n",
       "    <tr>\n",
       "      <th>22637501</th>\n",
       "      <td>HS-grad</td>\n",
       "      <td>52</td>\n",
       "      <td>Wife</td>\n",
       "      <td>Sales</td>\n",
       "      <td>&lt;=50K</td>\n",
       "    </tr>\n",
       "    <tr>\n",
       "      <th>22637502</th>\n",
       "      <td>HS-grad</td>\n",
       "      <td>52</td>\n",
       "      <td>Wife</td>\n",
       "      <td>Exec-managerial</td>\n",
       "      <td>&gt;50K</td>\n",
       "    </tr>\n",
       "  </tbody>\n",
       "</table>\n",
       "<p>22637503 rows × 5 columns</p>\n",
       "</div>"
      ],
      "text/plain": [
       "           education  age    relationship        occupation  Income\n",
       "0          Bachelors   39   Not-in-family      Adm-clerical   <=50K\n",
       "1          Bachelors   39   Not-in-family   Exec-managerial   <=50K\n",
       "2          Bachelors   39   Not-in-family      Craft-repair   <=50K\n",
       "3          Bachelors   39   Not-in-family   Exec-managerial   <=50K\n",
       "4          Bachelors   39   Not-in-family                 ?   <=50K\n",
       "...              ...  ...             ...               ...     ...\n",
       "22637498     HS-grad   52            Wife   Exec-managerial    >50K\n",
       "22637499     HS-grad   52            Wife    Prof-specialty   <=50K\n",
       "22637500     HS-grad   52            Wife     Other-service   <=50K\n",
       "22637501     HS-grad   52            Wife             Sales   <=50K\n",
       "22637502     HS-grad   52            Wife   Exec-managerial    >50K\n",
       "\n",
       "[22637503 rows x 5 columns]"
      ]
     },
     "execution_count": 30,
     "metadata": {},
     "output_type": "execute_result"
    }
   ],
   "source": [
    "# Merge the two dataframes together using pd.merge and the key column 'age'\n",
    "merged_dfs = pd.merge(first_df, second_df, on='age', how='inner')\n",
    "\n",
    "# Drop the duplicate values using drop_duplicates()\n",
    "merged_dfs.drop_duplicates()\n",
    "\n",
    "# Show the merged dataframe\n",
    "merged_dfs"
   ]
  }
 ],
 "metadata": {
  "kernelspec": {
   "display_name": "Python 3 (ipykernel)",
   "language": "python",
   "name": "python3"
  },
  "language_info": {
   "codemirror_mode": {
    "name": "ipython",
    "version": 3
   },
   "file_extension": ".py",
   "mimetype": "text/x-python",
   "name": "python",
   "nbconvert_exporter": "python",
   "pygments_lexer": "ipython3",
   "version": "3.9.13"
  }
 },
 "nbformat": 4,
 "nbformat_minor": 5
}
